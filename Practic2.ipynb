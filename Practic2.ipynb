{
 "cells": [
  {
   "cell_type": "code",
   "execution_count": 2,
   "id": "ac449ee3-79f4-4b14-8fa4-fa28ba51b761",
   "metadata": {
    "tags": []
   },
   "outputs": [
    {
     "data": {
      "text/plain": [
       "{1: True, 10: True, 100: True, 1000: True, 10000: True}"
      ]
     },
     "execution_count": 2,
     "metadata": {},
     "output_type": "execute_result"
    }
   ],
   "source": [
    "def is_O_n4(n):\n",
    "\n",
    "    f_n = n**4 + 2 * n**3 - 5 * n**2 + 8\n",
    "    \n",
    "\n",
    "    c = 6\n",
    "    O_n4 = c * n**4\n",
    "    \n",
    "\n",
    "    return f_n <= O_n4\n",
    "\n",
    "\n",
    "n_values = [1, 10, 100, 1000, 10000]\n",
    "results = {n: is_O_n4(n) for n in n_values}\n",
    "\n",
    "results\n"
   ]
  },
  {
   "cell_type": "code",
   "execution_count": null,
   "id": "e4ab109f-3585-47a5-9840-910fb4f63586",
   "metadata": {},
   "outputs": [],
   "source": []
  }
 ],
 "metadata": {
  "kernelspec": {
   "display_name": "Python 3 (ipykernel)",
   "language": "python",
   "name": "python3"
  },
  "language_info": {
   "codemirror_mode": {
    "name": "ipython",
    "version": 3
   },
   "file_extension": ".py",
   "mimetype": "text/x-python",
   "name": "python",
   "nbconvert_exporter": "python",
   "pygments_lexer": "ipython3",
   "version": "3.11.7"
  }
 },
 "nbformat": 4,
 "nbformat_minor": 5
}
